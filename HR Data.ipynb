{
 "cells": [
  {
   "cell_type": "markdown",
   "id": "6ca5ddf3-8cd8-4dcc-aa82-4f2e7963e2d1",
   "metadata": {},
   "source": [
    "# HR Data Analysis"
   ]
  },
  {
   "cell_type": "code",
   "execution_count": 59,
   "id": "f618eac3-510a-4c8d-9639-8404f2f86994",
   "metadata": {},
   "outputs": [],
   "source": [
    "import pandas as pd\n",
    "import numpy as np\n",
    "import matplotlib.pyplot as plt\n",
    "import seaborn as sns\n",
    "\n",
    "# Load the dataset\n",
    "df = pd.read_csv('HR Data.csv')"
   ]
  },
  {
   "cell_type": "code",
   "execution_count": 60,
   "id": "6e91d180-0595-4d00-846d-08791dd6242f",
   "metadata": {},
   "outputs": [
    {
     "name": "stdout",
     "output_type": "stream",
     "text": [
      "Initial dataset info:\n",
      "<class 'pandas.core.frame.DataFrame'>\n",
      "RangeIndex: 1470 entries, 0 to 1469\n",
      "Data columns (total 35 columns):\n",
      " #   Column                    Non-Null Count  Dtype \n",
      "---  ------                    --------------  ----- \n",
      " 0   Age                       1470 non-null   int64 \n",
      " 1   Attrition                 1470 non-null   object\n",
      " 2   BusinessTravel            1470 non-null   object\n",
      " 3   DailyRate                 1470 non-null   int64 \n",
      " 4   Department                1470 non-null   object\n",
      " 5   DistanceFromHome          1470 non-null   int64 \n",
      " 6   Education                 1470 non-null   int64 \n",
      " 7   EducationField            1470 non-null   object\n",
      " 8   EmployeeCount             1470 non-null   int64 \n",
      " 9   EmployeeNumber            1470 non-null   int64 \n",
      " 10  EnvironmentSatisfaction   1470 non-null   int64 \n",
      " 11  Gender                    1470 non-null   object\n",
      " 12  HourlyRate                1470 non-null   int64 \n",
      " 13  JobInvolvement            1470 non-null   int64 \n",
      " 14  JobLevel                  1470 non-null   int64 \n",
      " 15  JobRole                   1470 non-null   object\n",
      " 16  JobSatisfaction           1470 non-null   int64 \n",
      " 17  MaritalStatus             1470 non-null   object\n",
      " 18  MonthlyIncome             1470 non-null   int64 \n",
      " 19  MonthlyRate               1470 non-null   int64 \n",
      " 20  NumCompaniesWorked        1470 non-null   int64 \n",
      " 21  Over18                    1470 non-null   object\n",
      " 22  OverTime                  1470 non-null   object\n",
      " 23  PercentSalaryHike         1470 non-null   int64 \n",
      " 24  PerformanceRating         1470 non-null   int64 \n",
      " 25  RelationshipSatisfaction  1470 non-null   int64 \n",
      " 26  StandardHours             1470 non-null   int64 \n",
      " 27  StockOptionLevel          1470 non-null   int64 \n",
      " 28  TotalWorkingYears         1470 non-null   int64 \n",
      " 29  TrainingTimesLastYear     1470 non-null   int64 \n",
      " 30  WorkLifeBalance           1470 non-null   int64 \n",
      " 31  YearsAtCompany            1470 non-null   int64 \n",
      " 32  YearsInCurrentRole        1470 non-null   int64 \n",
      " 33  YearsSinceLastPromotion   1470 non-null   int64 \n",
      " 34  YearsWithCurrManager      1470 non-null   int64 \n",
      "dtypes: int64(26), object(9)\n",
      "memory usage: 402.1+ KB\n",
      "None\n"
     ]
    }
   ],
   "source": [
    "print(\"Initial dataset info:\")\n",
    "print(df.info())"
   ]
  },
  {
   "cell_type": "code",
   "execution_count": 61,
   "id": "e4d4c4cc-6f92-4ad3-9b08-47486712fa60",
   "metadata": {},
   "outputs": [
    {
     "data": {
      "text/plain": [
       "Index(['Age', 'Attrition', 'BusinessTravel', 'DailyRate', 'Department',\n",
       "       'DistanceFromHome', 'Education', 'EducationField', 'EmployeeCount',\n",
       "       'EmployeeNumber', 'EnvironmentSatisfaction', 'Gender', 'HourlyRate',\n",
       "       'JobInvolvement', 'JobLevel', 'JobRole', 'JobSatisfaction',\n",
       "       'MaritalStatus', 'MonthlyIncome', 'MonthlyRate', 'NumCompaniesWorked',\n",
       "       'Over18', 'OverTime', 'PercentSalaryHike', 'PerformanceRating',\n",
       "       'RelationshipSatisfaction', 'StandardHours', 'StockOptionLevel',\n",
       "       'TotalWorkingYears', 'TrainingTimesLastYear', 'WorkLifeBalance',\n",
       "       'YearsAtCompany', 'YearsInCurrentRole', 'YearsSinceLastPromotion',\n",
       "       'YearsWithCurrManager'],\n",
       "      dtype='object')"
      ]
     },
     "execution_count": 61,
     "metadata": {},
     "output_type": "execute_result"
    }
   ],
   "source": [
    "df.columns"
   ]
  },
  {
   "cell_type": "markdown",
   "id": "d0417686-d45c-45af-b0a8-e6bb2f3e7ab1",
   "metadata": {},
   "source": [
    "# 1. Removing unecessary columns"
   ]
  },
  {
   "cell_type": "code",
   "execution_count": 62,
   "id": "ed8903c3-a1cb-45b0-aacf-a551cfe1bac5",
   "metadata": {},
   "outputs": [
    {
     "name": "stdout",
     "output_type": "stream",
     "text": [
      "Columns removed: ['EmployeeCount', 'EmployeeNumber', 'StandardHours', 'Over18']\n"
     ]
    }
   ],
   "source": [
    "columns_to_drop = ['EmployeeCount', 'EmployeeNumber', 'StandardHours', 'Over18']\n",
    "df = df.drop(columns=columns_to_drop)\n",
    "\n",
    "print(\"Columns removed:\", columns_to_drop)"
   ]
  },
  {
   "cell_type": "markdown",
   "id": "a9e56159-b805-4b00-a1be-159cd75669d6",
   "metadata": {},
   "source": [
    "# 2. Rename columns"
   ]
  },
  {
   "cell_type": "code",
   "execution_count": 63,
   "id": "77dc45b4-1a35-4d89-986d-e4a0953759a7",
   "metadata": {},
   "outputs": [
    {
     "name": "stdout",
     "output_type": "stream",
     "text": [
      "\n",
      "Columns renamed:\n",
      "BusinessTravel -> TravelFrequency\n",
      "DailyRate -> DailyPay\n",
      "DistanceFromHome -> CommuteDistance\n",
      "EnvironmentSatisfaction -> EnvSatisfaction\n",
      "JobInvolvement -> JobEngagement\n",
      "MonthlyIncome -> MonthlySalary\n",
      "NumCompaniesWorked -> PriorCompanies\n",
      "PercentSalaryHike -> SalaryHikePercent\n",
      "TotalWorkingYears -> TotalExperience\n",
      "TrainingTimesLastYear -> TrainingLastYear\n",
      "YearsAtCompany -> CompanyTenure\n",
      "YearsInCurrentRole -> CurrentRoleTenure\n",
      "YearsSinceLastPromotion -> LastPromotionYear\n",
      "YearsWithCurrManager -> CurrentManagerTenure\n"
     ]
    }
   ],
   "source": [
    "column_rename = {\n",
    "    'BusinessTravel': 'TravelFrequency',\n",
    "    'DailyRate': 'DailyPay',\n",
    "    'DistanceFromHome': 'CommuteDistance',\n",
    "    'EnvironmentSatisfaction': 'EnvSatisfaction',\n",
    "    'JobInvolvement': 'JobEngagement',\n",
    "    'MonthlyIncome': 'MonthlySalary',\n",
    "    'NumCompaniesWorked': 'PriorCompanies',\n",
    "    'PercentSalaryHike': 'SalaryHikePercent',\n",
    "    'TotalWorkingYears': 'TotalExperience',\n",
    "    'TrainingTimesLastYear': 'TrainingLastYear',\n",
    "    'YearsAtCompany': 'CompanyTenure',\n",
    "    'YearsInCurrentRole': 'CurrentRoleTenure',\n",
    "    'YearsSinceLastPromotion': 'LastPromotionYear',\n",
    "    'YearsWithCurrManager': 'CurrentManagerTenure'\n",
    "}\n",
    "\n",
    "df = df.rename(columns=column_rename)\n",
    "\n",
    "print(\"\\nColumns renamed:\")\n",
    "for old, new in column_rename.items():\n",
    "    print(f\"{old} -> {new}\")"
   ]
  },
  {
   "cell_type": "markdown",
   "id": "f1735634-c491-4518-92a7-032539d9cc50",
   "metadata": {},
   "source": [
    "# 3. Eliminating redundant entries"
   ]
  },
  {
   "cell_type": "code",
   "execution_count": 64,
   "id": "7db4557e-2a47-4d4b-b72b-63df41ef8522",
   "metadata": {},
   "outputs": [
    {
     "name": "stdout",
     "output_type": "stream",
     "text": [
      "\n",
      "Redundant entries removed: 0\n"
     ]
    }
   ],
   "source": [
    "df_before = df.shape[0]\n",
    "df = df.drop_duplicates()\n",
    "df_after = df.shape[0]\n",
    "\n",
    "print(f\"\\nRedundant entries removed: {df_before - df_after}\")"
   ]
  },
  {
   "cell_type": "markdown",
   "id": "9bf3fcaf-2ebc-4d9c-85d2-be63c50be0ba",
   "metadata": {},
   "source": [
    "# 4. Sanitize specific columns"
   ]
  },
  {
   "cell_type": "code",
   "execution_count": 65,
   "id": "86b89a01-bfbc-46e5-a901-d5de229cffc7",
   "metadata": {},
   "outputs": [
    {
     "name": "stdout",
     "output_type": "stream",
     "text": [
      "\n",
      "Columns sanitized:\n",
      "Age                          int64\n",
      "Attrition                   object\n",
      "TravelFrequency             object\n",
      "DailyPay                     int64\n",
      "Department                  object\n",
      "CommuteDistance              int64\n",
      "Education                    int64\n",
      "EducationField              object\n",
      "EnvSatisfaction              int64\n",
      "Gender                      object\n",
      "HourlyRate                   int64\n",
      "JobEngagement                int64\n",
      "JobLevel                     int64\n",
      "JobRole                     object\n",
      "JobSatisfaction              int64\n",
      "MaritalStatus               object\n",
      "MonthlySalary                int64\n",
      "MonthlyRate                  int64\n",
      "PriorCompanies               int64\n",
      "OverTime                    object\n",
      "SalaryHikePercent            int64\n",
      "PerformanceRating            int64\n",
      "RelationshipSatisfaction     int64\n",
      "StockOptionLevel             int64\n",
      "TotalExperience              int64\n",
      "TrainingLastYear             int64\n",
      "WorkLifeBalance              int64\n",
      "CompanyTenure                int64\n",
      "CurrentRoleTenure            int64\n",
      "LastPromotionYear            int64\n",
      "CurrentManagerTenure         int64\n",
      "dtype: object\n"
     ]
    }
   ],
   "source": [
    "# Convert categorical columns to title case\n",
    "categorical_columns = df.select_dtypes(include=['object']).columns\n",
    "for col in categorical_columns:\n",
    "    df[col] = df[col].str.title()\n",
    "\n",
    "# Ensure numeric columns are of the correct type\n",
    "numeric_columns = ['Age', 'DailyPay', 'CommuteDistance', 'MonthlySalary', 'PriorCompanies', 'TotalExperience']\n",
    "for col in numeric_columns:\n",
    "    df[col] = pd.to_numeric(df[col], errors='coerce')\n",
    "\n",
    "print(\"\\nColumns sanitized:\")\n",
    "print(df.dtypes)"
   ]
  },
  {
   "cell_type": "markdown",
   "id": "6161ff68-fad2-49ae-aec9-bbd7fcb653e9",
   "metadata": {},
   "source": [
    "# 5. Eliminate NaN values"
   ]
  },
  {
   "cell_type": "code",
   "execution_count": 66,
   "id": "8096e60c-6049-4f0b-a56b-33e4f04b0263",
   "metadata": {},
   "outputs": [
    {
     "name": "stdout",
     "output_type": "stream",
     "text": [
      "\n",
      "NaN values removed: 0\n"
     ]
    }
   ],
   "source": [
    "nan_before = df.isna().sum().sum()\n",
    "df = df.dropna()\n",
    "nan_after = df.isna().sum().sum()\n",
    "\n",
    "print(f\"\\nNaN values removed: {nan_before - nan_after}\")"
   ]
  },
  {
   "cell_type": "markdown",
   "id": "bc213ab0-3346-45a2-bfcc-14b887e7f629",
   "metadata": {},
   "source": [
    "# Additional changes"
   ]
  },
  {
   "cell_type": "code",
   "execution_count": 67,
   "id": "2b16f24e-8a27-4ea7-9dc5-f15640938d51",
   "metadata": {},
   "outputs": [
    {
     "name": "stdout",
     "output_type": "stream",
     "text": [
      "['old-aged', 'middle-aged', 'young']\n",
      "Categories (4, object): ['young' < 'middle-aged' < 'old-aged' < 'sinior-citizan']\n"
     ]
    }
   ],
   "source": [
    "# Step 7: Create age-group to enhance visulization\n",
    "bins = [0, 20, 40, 60, 80]\n",
    "labels = ['young', 'middle-aged', 'old-aged', 'sinior-citizan']\n",
    "\n",
    "df['AgeGroup'] = pd.cut(df['Age'], bins, labels=labels)\n",
    "\n",
    "print(df['AgeGroup'].unique())"
   ]
  },
  {
   "cell_type": "code",
   "execution_count": 68,
   "id": "89d9ec47-fdaa-4e0d-ba7b-8816f41b97d1",
   "metadata": {},
   "outputs": [
    {
     "data": {
      "text/plain": [
       "Index(['Age', 'Attrition', 'TravelFrequency', 'DailyPay', 'Department',\n",
       "       'CommuteDistance', 'Education', 'EducationField', 'EnvSatisfaction',\n",
       "       'Gender', 'HourlyRate', 'JobEngagement', 'JobLevel', 'JobRole',\n",
       "       'JobSatisfaction', 'MaritalStatus', 'MonthlySalary', 'MonthlyRate',\n",
       "       'PriorCompanies', 'OverTime', 'SalaryHikePercent', 'PerformanceRating',\n",
       "       'RelationshipSatisfaction', 'StockOptionLevel', 'TotalExperience',\n",
       "       'TrainingLastYear', 'WorkLifeBalance', 'CompanyTenure',\n",
       "       'CurrentRoleTenure', 'LastPromotionYear', 'CurrentManagerTenure',\n",
       "       'AgeGroup'],\n",
       "      dtype='object')"
      ]
     },
     "execution_count": 68,
     "metadata": {},
     "output_type": "execute_result"
    }
   ],
   "source": [
    "df.columns"
   ]
  }
 ],
 "metadata": {
  "kernelspec": {
   "display_name": "Python 3 (ipykernel)",
   "language": "python",
   "name": "python3"
  },
  "language_info": {
   "codemirror_mode": {
    "name": "ipython",
    "version": 3
   },
   "file_extension": ".py",
   "mimetype": "text/x-python",
   "name": "python",
   "nbconvert_exporter": "python",
   "pygments_lexer": "ipython3",
   "version": "3.11.5"
  }
 },
 "nbformat": 4,
 "nbformat_minor": 5
}
